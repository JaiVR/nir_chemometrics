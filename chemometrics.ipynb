{
  "nbformat": 4,
  "nbformat_minor": 0,
  "metadata": {
    "colab": {
      "provenance": [],
      "authorship_tag": "ABX9TyO/ckIvNw/Ye4JPp2a3aQh9",
      "include_colab_link": true
    },
    "kernelspec": {
      "name": "python3",
      "display_name": "Python 3"
    },
    "language_info": {
      "name": "python"
    }
  },
  "cells": [
    {
      "cell_type": "markdown",
      "metadata": {
        "id": "view-in-github",
        "colab_type": "text"
      },
      "source": [
        "<a href=\"https://colab.research.google.com/github/JaiVR/nir_chemometrics/blob/main/chemometrics.ipynb\" target=\"_parent\"><img src=\"https://colab.research.google.com/assets/colab-badge.svg\" alt=\"Open In Colab\"/></a>"
      ]
    },
    {
      "cell_type": "code",
      "execution_count": 1,
      "metadata": {
        "id": "XqhLAg--3Ba_"
      },
      "outputs": [],
      "source": [
        "import numpy as np\n",
        "import pandas as pd\n",
        "import matplotlib.pyplot as plt\n",
        "import plotly.express as ex\n",
        "import plotly.graph_objs as go\n",
        "import plotly.figure_factory as ff\n",
        "from plotly.subplots import make_subplots\n",
        "from sklearn.decomposition import PCA\n",
        "from sklearn.model_selection import train_test_split\n",
        "from sklearn.preprocessing import StandardScaler\n",
        "from sklearn.linear_model import LogisticRegression\n",
        "from sklearn.metrics import confusion_matrix\n",
        "from sklearn.metrics import accuracy_score\n",
        "from sklearn.metrics import classification_report"
      ]
    },
    {
      "cell_type": "markdown",
      "source": [
        "These dataset was collected from the website of radboud university http://webchem.science.ru.nl/chemometrics-i/data-sets/ on 15/12/2016\n",
        "wines.txt and cultivers.txt contains the data of 177 Italian wines characterized by 13 variables\n",
        "iris.txt, irisdata.txt and iris2.txt contains the data table of measurement od three types of irises (iris2 with outliers)\n",
        "soil.txt and spectra.txt has the spectra and physical characteristics of 54 soil samples.\n",
        "nir_gasoline.txt and octane.txt contains gasoline nir sprectra and octane content\n"
      ],
      "metadata": {
        "id": "SaR4IcsIKiuZ"
      }
    },
    {
      "cell_type": "code",
      "source": [
        "cultivars = pd.read_csv('cultivars.csv')\n",
        "iris = pd.read_csv('iris.csv')\n",
        "iris2 = pd.read_csv('iris2.csv')\n",
        "irisclass = pd.read_csv('irisclass.csv')\n",
        "soil = pd.read_csv('soil.csv')\n",
        "spectra = pd.read_csv('spectra.csv')\n",
        "gasoline = pd.read_csv('nir_gasoline.csv')\n",
        "octane = pd.read_csv('octane.csv')\n",
        "wines = pd.read_csv('wines.csv')"
      ],
      "metadata": {
        "id": "iRLOaF8RKkKI"
      },
      "execution_count": 2,
      "outputs": []
    },
    {
      "cell_type": "code",
      "source": [
        "column_names_wine = [\"Alcohol\", \"Malic_Acid\", \"Ash\", \"Alcalinity_of_Ash\", \"Magnesium\",\n",
        "                     \"Total_Phenols\", \"Flavanoids\", \"Nonflavanoid_Phenols\", \"Proanthocyanins\",\n",
        "                     \"Color_Intensity\", \"Hue\", \"OD280/OD315\", \"Proline\"]\n",
        "wines = pd.read_csv('wines.csv', header=None, names=column_names_wine)\n",
        "\n",
        "cultivers = pd.read_csv('cultivars.csv', header=None, names=[\"Cultivar\"])\n",
        "\n",
        "column_names_iris = [\"Sepal_Length\", \"Sepal_Width\", \"Petal_Length\", \"Petal_Width\", \"Species\"]\n",
        "iris = pd.read_csv('iris.csv', header=None, names=column_names_iris)\n",
        "iris2 = pd.read_csv('iris2.csv', header=None, names=column_names_iris)\n",
        "irisclass = pd.read_csv('irisclass.csv', header=None, names=[\"Species\"])\n",
        "\n",
        "column_names_soil = [f\"property{i+1}\" for i in range(300)]  # replace with actual property names\n",
        "soil = pd.read_csv('soil.csv', header=None, names=column_names_soil).dropna(axis=1, how='all')\n",
        "\n",
        "column_names_gasoline = [f\"wavelength{i}\" for i in range(gasoline.shape[1])]\n",
        "gasoline = pd.read_csv('nir_gasoline.csv', header=None, names=column_names_gasoline)\n",
        "octane = pd.read_csv('octane.csv', header=None, names=[\"Octane\"])\n",
        "\n",
        "column_names_spectra = [f\"Wavelength_{i+1}\" for i in range(spectra.shape[1])]\n",
        "spectra = pd.read_csv('spectra.csv', header=None, names=column_names_spectra).dropna(axis=1, how='all')\n"
      ],
      "metadata": {
        "id": "b_RxiMLbX_tg"
      },
      "execution_count": 3,
      "outputs": []
    }
  ]
}